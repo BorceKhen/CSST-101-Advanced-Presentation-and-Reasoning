{
  "nbformat": 4,
  "nbformat_minor": 0,
  "metadata": {
    "colab": {
      "provenance": [],
      "authorship_tag": "ABX9TyNpvjhSnawQSbCOllyAKrUT",
      "include_colab_link": true
    },
    "kernelspec": {
      "name": "python3",
      "display_name": "Python 3"
    },
    "language_info": {
      "name": "python"
    }
  },
  "cells": [
    {
      "cell_type": "markdown",
      "metadata": {
        "id": "view-in-github",
        "colab_type": "text"
      },
      "source": [
        "<a href=\"https://colab.research.google.com/github/BorceKhen/CSST-101-Advanced-Presentation-and-Reasoning/blob/main/AT4P2T1_CSST101_Borce.ipynb\" target=\"_parent\"><img src=\"https://colab.research.google.com/assets/colab-badge.svg\" alt=\"Open In Colab\"/></a>"
      ]
    },
    {
      "cell_type": "code",
      "execution_count": 6,
      "metadata": {
        "colab": {
          "base_uri": "https://localhost:8080/"
        },
        "id": "CixcJFNyMYug",
        "outputId": "acb12a55-6dd8-41aa-80a3-fa5896f8b015"
      },
      "outputs": [
        {
          "name": "stdout",
          "output_type": "stream",
          "text": [
            "Enter an animal: Penguin\n",
            "Reasoning: Penguin are birds.\n",
            "Assumption: Birds can fly.\n",
            "However, penguin do not fly.\n",
            "Conclusion: penguin cannot fly.\n",
            "Would you like to try again? (yes/no): yes\n"
          ]
        },
        {
          "output_type": "stream",
          "name": "stderr",
          "text": [
            "\n",
            "KeyboardInterrupt\n",
            "\n"
          ]
        }
      ],
      "source": [
        "# Belief Revision Simulation in Python\n",
        "\n",
        "# Step 1: Define known exceptions\n",
        "non_flying_birds = [\"penguin\", \"ostrich\", \"kiwi\", \"emu\"]\n",
        "\n",
        "while True:\n",
        "    # Step 2: Ask for user input\n",
        "    animal = input(\"Enter an animal: \").lower()\n",
        "\n",
        "    # Step 3: Reasoning process\n",
        "    print(\"Reasoning:\", animal.capitalize(), \"are birds.\")\n",
        "    print(\"Assumption: Birds can fly.\")\n",
        "\n",
        "    # Step 4: Revise conclusion if exception\n",
        "    if animal in non_flying_birds:\n",
        "        print(\"However,\", animal, \"do not fly.\")\n",
        "        print(\"Conclusion:\", animal, \"cannot fly.\")\n",
        "    else:\n",
        "        print(\"Conclusion:\", animal, \"can fly.\")\n",
        "\n",
        "    # Ask if the user wants to try again\n",
        "    try_again = input(\"Would you like to try again? (yes/no): \").lower()\n",
        "    if try_again != 'yes':\n",
        "        break"
      ]
    }
  ]
}