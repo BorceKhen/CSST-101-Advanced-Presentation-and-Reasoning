{
  "nbformat": 4,
  "nbformat_minor": 0,
  "metadata": {
    "colab": {
      "provenance": [],
      "authorship_tag": "ABX9TyNpDu/7TECX3hmRNyweu3RX",
      "include_colab_link": true
    },
    "kernelspec": {
      "name": "python3",
      "display_name": "Python 3"
    },
    "language_info": {
      "name": "python"
    }
  },
  "cells": [
    {
      "cell_type": "markdown",
      "metadata": {
        "id": "view-in-github",
        "colab_type": "text"
      },
      "source": [
        "<a href=\"https://colab.research.google.com/github/BorceKhen/CSST-101-Advanced-Presentation-and-Reasoning/blob/main/Borce_AT_3_CSST101.ipynb\" target=\"_parent\"><img src=\"https://colab.research.google.com/assets/colab-badge.svg\" alt=\"Open In Colab\"/></a>"
      ]
    },
    {
      "cell_type": "markdown",
      "source": [
        "**1. Unification**"
      ],
      "metadata": {
        "id": "pJJYvwDyrLQS"
      }
    },
    {
      "cell_type": "code",
      "execution_count": 3,
      "metadata": {
        "colab": {
          "base_uri": "https://localhost:8080/"
        },
        "id": "n1BzNhkSq3Gg",
        "outputId": "5579a49c-5dca-469f-f807-c2e6aee259b6"
      },
      "outputs": [
        {
          "output_type": "stream",
          "name": "stdout",
          "text": [
            "Substitution Set: {'x': 'Ana'}\n"
          ]
        }
      ],
      "source": [
        "substitution_set = {\"x\": \"Ana\"}\n",
        "print(\"Substitution Set:\", substitution_set)"
      ]
    },
    {
      "cell_type": "markdown",
      "source": [
        "**2. Forward Chaining**"
      ],
      "metadata": {
        "id": "h1TfaXQlr4wy"
      }
    },
    {
      "cell_type": "code",
      "source": [
        "facts = {\"Eligible(Ana)\", \"Eligible(Juan)\"}\n",
        "rules = {\"Eligible(x)\": \"Scholarship(x)\"}\n",
        "\n",
        "derived_facts = []\n",
        "for fact in facts:\n",
        "    if fact.startswith(\"Eligible(\"):\n",
        "        person = fact.split(\"(\")[1][:-1]\n",
        "        derived_facts.append(f\"Scholarship({person})\")\n",
        "\n",
        "print(\"Derived Facts:\", derived_facts)\n",
        "\n",
        "print(\"\\nMaria and Carlos are not eligible because they do not satisfy the conditions defined in the rule base (e.g., HighGrades, Leader, Applied).\")"
      ],
      "metadata": {
        "colab": {
          "base_uri": "https://localhost:8080/"
        },
        "id": "GXq1qmnOr9_-",
        "outputId": "28cda0f1-6367-4f21-81cc-a407931a209a"
      },
      "execution_count": 4,
      "outputs": [
        {
          "output_type": "stream",
          "name": "stdout",
          "text": [
            "Derived Facts: ['Scholarship(Juan)', 'Scholarship(Ana)']\n",
            "\n",
            "Maria and Carlos are not eligible because they do not satisfy the conditions defined in the rule base (e.g., HighGrades, Leader, Applied).\n"
          ]
        }
      ]
    },
    {
      "cell_type": "markdown",
      "source": [
        "**3. Backward Chaining**"
      ],
      "metadata": {
        "id": "hlSxDlLTsRuR"
      }
    },
    {
      "cell_type": "code",
      "source": [
        "print(\"Goal: Scholarship(Maria)\")\n",
        "print(\"→ Check if Eligible(Maria)\")\n",
        "print(\"→ Maria is not eligible based on given facts\")\n",
        "print(\"→ Therefore, Scholarship(Maria) cannot be concluded\")\n",
        "\n",
        "\n",
        "print(\"\\nGoal: FinancialSupport(Ana)\")\n",
        "print(\"→ Check if Ana has Scholarship\")\n",
        "print(\"→ Ana is eligible → Scholarship(Ana) is true\")\n",
        "print(\"→ Apply rule: Scholarship(x) → FinancialSupport(x)\")\n",
        "print(\"→ Therefore, FinancialSupport(Ana) is true\")"
      ],
      "metadata": {
        "colab": {
          "base_uri": "https://localhost:8080/"
        },
        "id": "NFczD3bKsVGu",
        "outputId": "5f8b9e45-f5de-46d1-d453-e14ecd6cd8b7"
      },
      "execution_count": 5,
      "outputs": [
        {
          "output_type": "stream",
          "name": "stdout",
          "text": [
            "Goal: Scholarship(Maria)\n",
            "→ Check if Eligible(Maria)\n",
            "→ Maria is not eligible based on given facts\n",
            "→ Therefore, Scholarship(Maria) cannot be concluded\n",
            "\n",
            "Goal: FinancialSupport(Ana)\n",
            "→ Check if Ana has Scholarship\n",
            "→ Ana is eligible → Scholarship(Ana) is true\n",
            "→ Apply rule: Scholarship(x) → FinancialSupport(x)\n",
            "→ Therefore, FinancialSupport(Ana) is true\n"
          ]
        }
      ]
    },
    {
      "cell_type": "markdown",
      "source": [
        "**4. Validity Check**"
      ],
      "metadata": {
        "id": "EFpOl3DAspLb"
      }
    },
    {
      "cell_type": "code",
      "source": [
        "import pandas as pd\n",
        "\n",
        "data = {\n",
        "    \"Student\": [\"Juan\", \"Maria\", \"Carlos\", \"Ana\"],\n",
        "    \"HighGrades\": [True, False, True, True],\n",
        "    \"Leader\": [True, True, False, True],\n",
        "    \"Applied\": [True, True, True, True]\n",
        "}\n",
        "\n",
        "df = pd.DataFrame(data)\n",
        "df[\"Eligible\"] = df[\"HighGrades\"] & df[\"Leader\"] & df[\"Applied\"]\n",
        "print(df)"
      ],
      "metadata": {
        "colab": {
          "base_uri": "https://localhost:8080/"
        },
        "id": "8Juy2PKkstWx",
        "outputId": "bc4c1d6a-6c1c-4406-f24d-ebd2e42f1986"
      },
      "execution_count": 6,
      "outputs": [
        {
          "output_type": "stream",
          "name": "stdout",
          "text": [
            "  Student  HighGrades  Leader  Applied  Eligible\n",
            "0    Juan        True    True     True      True\n",
            "1   Maria       False    True     True     False\n",
            "2  Carlos        True   False     True     False\n",
            "3     Ana        True    True     True      True\n"
          ]
        }
      ]
    },
    {
      "cell_type": "markdown",
      "source": [
        "**5. Reflection**"
      ],
      "metadata": {
        "id": "Lmk_Th2Cs09b"
      }
    },
    {
      "cell_type": "markdown",
      "source": [
        "Logical reasoning is a key component of artificial intelligence because it allows systems to make educated judgments based on organized data. In real-life situations, reasoning allows us to assess options, predict consequences, and defend our decisions—whether we're choosing a scholarship winner or diagnosing a technical problem. AI can imitate human-like judgment by applying rules and facts in a methodical manner while being consistent and transparent. This not only increases trust in AI systems, but it also allows people to understand and improve the rationale underlying automated judgments."
      ],
      "metadata": {
        "id": "AwLbLWu9s4N0"
      }
    }
  ]
}