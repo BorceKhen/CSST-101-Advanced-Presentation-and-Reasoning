{
  "nbformat": 4,
  "nbformat_minor": 0,
  "metadata": {
    "colab": {
      "provenance": [],
      "include_colab_link": true
    },
    "kernelspec": {
      "name": "python3",
      "display_name": "Python 3"
    },
    "language_info": {
      "name": "python"
    }
  },
  "cells": [
    {
      "cell_type": "markdown",
      "metadata": {
        "id": "view-in-github",
        "colab_type": "text"
      },
      "source": [
        "<a href=\"https://colab.research.google.com/github/BorceKhen/CSST-101-Advanced-Presentation-and-Reasoning/blob/main/Borce_LabAct_of_Predicate_Logic.ipynb\" target=\"_parent\"><img src=\"https://colab.research.google.com/assets/colab-badge.svg\" alt=\"Open In Colab\"/></a>"
      ]
    },
    {
      "cell_type": "markdown",
      "source": [
        "# **1. Unification Checker**"
      ],
      "metadata": {
        "id": "ICQpVa-pLXXF"
      }
    },
    {
      "cell_type": "code",
      "execution_count": 12,
      "metadata": {
        "colab": {
          "base_uri": "https://localhost:8080/"
        },
        "id": "7p5KFw54JMUD",
        "outputId": "7c98a926-c1aa-4030-9618-4aa772f3944f"
      },
      "outputs": [
        {
          "output_type": "stream",
          "name": "stdout",
          "text": [
            "{'x': 'y'}\n",
            "Cannot be unified\n",
            "{'x': 'y'}\n",
            "Cannot be unified\n",
            "{'x': 'y'}\n"
          ]
        }
      ],
      "source": [
        "#Pizza#\n",
        "def unify(p1, p2):\n",
        "    f1, f2 = p1.split(\"(\")[0], p2.split(\"(\")[0]\n",
        "    if f1 != f2: return \"Cannot be unified\"\n",
        "\n",
        "    a1, a2 = p1[p1.find(\"(\")+1:-1].split(\",\"), p2[p2.find(\"(\")+1:-1].split(\",\")\n",
        "    if len(a1) != len(a2): return \"Cannot be unified\"\n",
        "\n",
        "    subs = {}\n",
        "    for x, y in zip(a1, a2):\n",
        "        x, y = x.strip(), y.strip()\n",
        "        if x == y: continue\n",
        "        if x.islower(): subs[x] = y\n",
        "        elif y.islower(): subs[y] = x\n",
        "        else: return \"Cannot be unified\"\n",
        "\n",
        "    return subs or \"Already unified\"\n",
        "\n",
        "# Test\n",
        "print(unify(\"Parent(John, x)\", \"Parent(John, y)\"))\n",
        "print(unify(\"Knows(John, x)\", \"Knows(Mary, y)\"))\n",
        "print(unify(\"Parent(Mary, x)\", \"Parent(Mary, y)\"))\n",
        "print(unify(\"Parent(Mary, x)\", \"Parent(John, y)\"))\n",
        "print(unify(\"Knows(Mary, x)\", \"Knows(Mary, y)\"))\n"
      ]
    },
    {
      "cell_type": "markdown",
      "source": [
        "# **2. Forward Chaining**"
      ],
      "metadata": {
        "id": "imViwbCCLwiT"
      }
    },
    {
      "cell_type": "code",
      "source": [
        "facts = {\"Human(Sabrina De Leon)\", \"Human(Nicki Dimaculangan)\", \"Human(Batumakal Swift)\"}\n",
        "rules = [\"Human\", \"Mortal\", \"Stroke\", \"Dies\"]\n",
        "\n",
        "names = [f[f.find(\"(\")+1:f.find(\")\")] for f in rules if f == \"Human\" for f in facts if f.startswith(\"Human\")]\n",
        "\n",
        "for f in list(facts):\n",
        "    if f.startswith(\"Human\"):\n",
        "        name = f[f.find(\"(\")+1:f.find(\")\")]\n",
        "        for c in rules:\n",
        "            facts.add(f\"{c}({name})\")\n",
        "\n",
        "print(\"Final facts:\", sorted(facts, key=lambda x: (rules.index(x[:x.find(\"(\")]), names.index(x[x.find(\"(\")+1:x.find(\")\")]))))"
      ],
      "metadata": {
        "colab": {
          "base_uri": "https://localhost:8080/"
        },
        "id": "fGkkVR6gLw0T",
        "outputId": "2bfdb292-d447-4dc6-ad70-f3f90dfbfdc5"
      },
      "execution_count": 39,
      "outputs": [
        {
          "output_type": "stream",
          "name": "stdout",
          "text": [
            "Final facts: ['Human(Batumakal Swift)', 'Human(Nicki Dimaculangan)', 'Human(Sabrina De Leon)', 'Mortal(Batumakal Swift)', 'Mortal(Nicki Dimaculangan)', 'Mortal(Sabrina De Leon)', 'Stroke(Batumakal Swift)', 'Stroke(Nicki Dimaculangan)', 'Stroke(Sabrina De Leon)', 'Dies(Batumakal Swift)', 'Dies(Nicki Dimaculangan)', 'Dies(Sabrina De Leon)']\n"
          ]
        }
      ]
    },
    {
      "cell_type": "markdown",
      "source": [
        "# **3. Backward Chaining**"
      ],
      "metadata": {
        "id": "X59MBhaXL-Z0"
      }
    },
    {
      "cell_type": "code",
      "source": [
        "facts = {\"Student(Carlos)\", \"Studies(Carlos)\", \"Submits(Carlos, IT101)\", \"Studies(Ana)\", \"Submits(Ana, IT101)\"}\n",
        "premises = [\"Studies(x)\", \"Submits(x, IT101)\"]\n",
        "conclusion = \"Passed(x, IT101)\"\n",
        "\n",
        "def prove(goal):\n",
        "    if goal in facts: return True\n",
        "    if goal.startswith(\"Passed(\"):\n",
        "        name = goal[goal.find(\"(\")+1:goal.find(\",\")]\n",
        "        return all(prove(p.replace(\"x\", name)) for p in premises)\n",
        "    return False\n",
        "\n",
        "print(\"Carlos Passed?\", prove(\"Passed(Carlos, IT101)\"))\n",
        "print(\"Ana Passed?\", prove(\"Passed(Ana, IT101)\"))\n"
      ],
      "metadata": {
        "colab": {
          "base_uri": "https://localhost:8080/"
        },
        "id": "Ds8YCe3bL-oz",
        "outputId": "622e7d2d-5392-48ac-87e1-db589c121dc4"
      },
      "execution_count": 17,
      "outputs": [
        {
          "output_type": "stream",
          "name": "stdout",
          "text": [
            "Carlos Passed? True\n",
            "Ana Passed? True\n"
          ]
        }
      ]
    }
  ]
}